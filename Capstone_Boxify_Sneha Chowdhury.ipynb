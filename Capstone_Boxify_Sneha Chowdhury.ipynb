{
 "cells": [
  {
   "cell_type": "code",
   "execution_count": 5,
   "id": "a30524d3-7f02-4d51-a126-6390208f8f72",
   "metadata": {},
   "outputs": [],
   "source": [
    "import pandas as pd\n",
    "import warnings\n",
    "warnings.filterwarnings(\"ignore\")"
   ]
  },
  {
   "cell_type": "code",
   "execution_count": 7,
   "id": "cdabc110-db5a-48e0-b63b-2d0a714a894e",
   "metadata": {},
   "outputs": [],
   "source": [
    "df = pd.read_csv(\"Boxify Dataset - Data Analyst Bootcamp.csv\")"
   ]
  },
  {
   "cell_type": "code",
   "execution_count": 9,
   "id": "0f615c6f-11d4-4433-a9c3-8b6f0c1f829e",
   "metadata": {},
   "outputs": [
    {
     "data": {
      "text/html": [
       "<div>\n",
       "<style scoped>\n",
       "    .dataframe tbody tr th:only-of-type {\n",
       "        vertical-align: middle;\n",
       "    }\n",
       "\n",
       "    .dataframe tbody tr th {\n",
       "        vertical-align: top;\n",
       "    }\n",
       "\n",
       "    .dataframe thead th {\n",
       "        text-align: right;\n",
       "    }\n",
       "</style>\n",
       "<table border=\"1\" class=\"dataframe\">\n",
       "  <thead>\n",
       "    <tr style=\"text-align: right;\">\n",
       "      <th></th>\n",
       "      <th>Order</th>\n",
       "      <th>File_Type</th>\n",
       "      <th>SKU_number</th>\n",
       "      <th>SoldFlag</th>\n",
       "      <th>SoldCount</th>\n",
       "      <th>MarketingType</th>\n",
       "      <th>ReleaseNumber</th>\n",
       "      <th>New_Release_Flag</th>\n",
       "      <th>StrengthFactor</th>\n",
       "      <th>PriceReg</th>\n",
       "      <th>ReleaseYear</th>\n",
       "      <th>ItemCount</th>\n",
       "      <th>LowUserPrice</th>\n",
       "      <th>LowNetPrice</th>\n",
       "    </tr>\n",
       "  </thead>\n",
       "  <tbody>\n",
       "    <tr>\n",
       "      <th>0</th>\n",
       "      <td>2</td>\n",
       "      <td>Historical</td>\n",
       "      <td>1737127</td>\n",
       "      <td>0.0</td>\n",
       "      <td>0.0</td>\n",
       "      <td>D</td>\n",
       "      <td>15</td>\n",
       "      <td>1</td>\n",
       "      <td>6.827430e+05</td>\n",
       "      <td>44.99</td>\n",
       "      <td>2015</td>\n",
       "      <td>8</td>\n",
       "      <td>28.97</td>\n",
       "      <td>31.84</td>\n",
       "    </tr>\n",
       "    <tr>\n",
       "      <th>1</th>\n",
       "      <td>3</td>\n",
       "      <td>Historical</td>\n",
       "      <td>3255963</td>\n",
       "      <td>0.0</td>\n",
       "      <td>0.0</td>\n",
       "      <td>D</td>\n",
       "      <td>7</td>\n",
       "      <td>1</td>\n",
       "      <td>1.016014e+06</td>\n",
       "      <td>24.81</td>\n",
       "      <td>2005</td>\n",
       "      <td>39</td>\n",
       "      <td>0.00</td>\n",
       "      <td>15.54</td>\n",
       "    </tr>\n",
       "    <tr>\n",
       "      <th>2</th>\n",
       "      <td>4</td>\n",
       "      <td>Historical</td>\n",
       "      <td>612701</td>\n",
       "      <td>0.0</td>\n",
       "      <td>0.0</td>\n",
       "      <td>D</td>\n",
       "      <td>0</td>\n",
       "      <td>0</td>\n",
       "      <td>3.404640e+05</td>\n",
       "      <td>46.00</td>\n",
       "      <td>2013</td>\n",
       "      <td>34</td>\n",
       "      <td>30.19</td>\n",
       "      <td>27.97</td>\n",
       "    </tr>\n",
       "    <tr>\n",
       "      <th>3</th>\n",
       "      <td>6</td>\n",
       "      <td>Historical</td>\n",
       "      <td>115883</td>\n",
       "      <td>1.0</td>\n",
       "      <td>1.0</td>\n",
       "      <td>D</td>\n",
       "      <td>4</td>\n",
       "      <td>1</td>\n",
       "      <td>3.340110e+05</td>\n",
       "      <td>100.00</td>\n",
       "      <td>2006</td>\n",
       "      <td>20</td>\n",
       "      <td>133.93</td>\n",
       "      <td>83.15</td>\n",
       "    </tr>\n",
       "    <tr>\n",
       "      <th>4</th>\n",
       "      <td>7</td>\n",
       "      <td>Historical</td>\n",
       "      <td>863939</td>\n",
       "      <td>1.0</td>\n",
       "      <td>1.0</td>\n",
       "      <td>D</td>\n",
       "      <td>2</td>\n",
       "      <td>1</td>\n",
       "      <td>1.287938e+06</td>\n",
       "      <td>121.95</td>\n",
       "      <td>2010</td>\n",
       "      <td>28</td>\n",
       "      <td>4.00</td>\n",
       "      <td>23.99</td>\n",
       "    </tr>\n",
       "    <tr>\n",
       "      <th>...</th>\n",
       "      <td>...</td>\n",
       "      <td>...</td>\n",
       "      <td>...</td>\n",
       "      <td>...</td>\n",
       "      <td>...</td>\n",
       "      <td>...</td>\n",
       "      <td>...</td>\n",
       "      <td>...</td>\n",
       "      <td>...</td>\n",
       "      <td>...</td>\n",
       "      <td>...</td>\n",
       "      <td>...</td>\n",
       "      <td>...</td>\n",
       "      <td>...</td>\n",
       "    </tr>\n",
       "    <tr>\n",
       "      <th>198912</th>\n",
       "      <td>208023</td>\n",
       "      <td>Active</td>\n",
       "      <td>109683</td>\n",
       "      <td>NaN</td>\n",
       "      <td>NaN</td>\n",
       "      <td>D</td>\n",
       "      <td>7</td>\n",
       "      <td>1</td>\n",
       "      <td>2.101869e+05</td>\n",
       "      <td>72.87</td>\n",
       "      <td>2006</td>\n",
       "      <td>54</td>\n",
       "      <td>8.46</td>\n",
       "      <td>60.59</td>\n",
       "    </tr>\n",
       "    <tr>\n",
       "      <th>198913</th>\n",
       "      <td>208024</td>\n",
       "      <td>Active</td>\n",
       "      <td>416462</td>\n",
       "      <td>NaN</td>\n",
       "      <td>NaN</td>\n",
       "      <td>D</td>\n",
       "      <td>8</td>\n",
       "      <td>1</td>\n",
       "      <td>4.555041e+05</td>\n",
       "      <td>247.00</td>\n",
       "      <td>2009</td>\n",
       "      <td>65</td>\n",
       "      <td>8.40</td>\n",
       "      <td>74.85</td>\n",
       "    </tr>\n",
       "    <tr>\n",
       "      <th>198914</th>\n",
       "      <td>208025</td>\n",
       "      <td>Active</td>\n",
       "      <td>658242</td>\n",
       "      <td>NaN</td>\n",
       "      <td>NaN</td>\n",
       "      <td>S</td>\n",
       "      <td>2</td>\n",
       "      <td>1</td>\n",
       "      <td>1.692746e+05</td>\n",
       "      <td>50.00</td>\n",
       "      <td>2012</td>\n",
       "      <td>23</td>\n",
       "      <td>23.98</td>\n",
       "      <td>32.62</td>\n",
       "    </tr>\n",
       "    <tr>\n",
       "      <th>198915</th>\n",
       "      <td>208026</td>\n",
       "      <td>Active</td>\n",
       "      <td>2538340</td>\n",
       "      <td>NaN</td>\n",
       "      <td>NaN</td>\n",
       "      <td>S</td>\n",
       "      <td>2</td>\n",
       "      <td>1</td>\n",
       "      <td>3.775266e+05</td>\n",
       "      <td>46.95</td>\n",
       "      <td>2001</td>\n",
       "      <td>23</td>\n",
       "      <td>27.42</td>\n",
       "      <td>37.89</td>\n",
       "    </tr>\n",
       "    <tr>\n",
       "      <th>198916</th>\n",
       "      <td>208027</td>\n",
       "      <td>Active</td>\n",
       "      <td>416662</td>\n",
       "      <td>NaN</td>\n",
       "      <td>NaN</td>\n",
       "      <td>D</td>\n",
       "      <td>15</td>\n",
       "      <td>1</td>\n",
       "      <td>1.183068e+05</td>\n",
       "      <td>120.00</td>\n",
       "      <td>2010</td>\n",
       "      <td>44</td>\n",
       "      <td>10.97</td>\n",
       "      <td>60.67</td>\n",
       "    </tr>\n",
       "  </tbody>\n",
       "</table>\n",
       "<p>198917 rows × 14 columns</p>\n",
       "</div>"
      ],
      "text/plain": [
       "         Order   File_Type  SKU_number  SoldFlag  SoldCount MarketingType  \\\n",
       "0            2  Historical     1737127       0.0        0.0             D   \n",
       "1            3  Historical     3255963       0.0        0.0             D   \n",
       "2            4  Historical      612701       0.0        0.0             D   \n",
       "3            6  Historical      115883       1.0        1.0             D   \n",
       "4            7  Historical      863939       1.0        1.0             D   \n",
       "...        ...         ...         ...       ...        ...           ...   \n",
       "198912  208023      Active      109683       NaN        NaN             D   \n",
       "198913  208024      Active      416462       NaN        NaN             D   \n",
       "198914  208025      Active      658242       NaN        NaN             S   \n",
       "198915  208026      Active     2538340       NaN        NaN             S   \n",
       "198916  208027      Active      416662       NaN        NaN             D   \n",
       "\n",
       "        ReleaseNumber  New_Release_Flag  StrengthFactor  PriceReg  \\\n",
       "0                  15                 1    6.827430e+05     44.99   \n",
       "1                   7                 1    1.016014e+06     24.81   \n",
       "2                   0                 0    3.404640e+05     46.00   \n",
       "3                   4                 1    3.340110e+05    100.00   \n",
       "4                   2                 1    1.287938e+06    121.95   \n",
       "...               ...               ...             ...       ...   \n",
       "198912              7                 1    2.101869e+05     72.87   \n",
       "198913              8                 1    4.555041e+05    247.00   \n",
       "198914              2                 1    1.692746e+05     50.00   \n",
       "198915              2                 1    3.775266e+05     46.95   \n",
       "198916             15                 1    1.183068e+05    120.00   \n",
       "\n",
       "        ReleaseYear  ItemCount  LowUserPrice  LowNetPrice  \n",
       "0              2015          8         28.97        31.84  \n",
       "1              2005         39          0.00        15.54  \n",
       "2              2013         34         30.19        27.97  \n",
       "3              2006         20        133.93        83.15  \n",
       "4              2010         28          4.00        23.99  \n",
       "...             ...        ...           ...          ...  \n",
       "198912         2006         54          8.46        60.59  \n",
       "198913         2009         65          8.40        74.85  \n",
       "198914         2012         23         23.98        32.62  \n",
       "198915         2001         23         27.42        37.89  \n",
       "198916         2010         44         10.97        60.67  \n",
       "\n",
       "[198917 rows x 14 columns]"
      ]
     },
     "execution_count": 9,
     "metadata": {},
     "output_type": "execute_result"
    }
   ],
   "source": [
    "df"
   ]
  },
  {
   "cell_type": "markdown",
   "id": "19c168ef-62dc-4aba-8f39-6f542985d796",
   "metadata": {},
   "source": [
    "#### First, Clean the data set"
   ]
  },
  {
   "cell_type": "code",
   "execution_count": 13,
   "id": "ca85b117-6c6b-4ad2-bcc2-c102a6e43e96",
   "metadata": {},
   "outputs": [
    {
     "name": "stdout",
     "output_type": "stream",
     "text": [
      "Number of duplicate rows: 0\n"
     ]
    }
   ],
   "source": [
    "## To check the duplicates values\n",
    "duplicates = df.duplicated().sum()\n",
    "print(f\"Number of duplicate rows: {duplicates}\")"
   ]
  },
  {
   "cell_type": "code",
   "execution_count": 15,
   "id": "27f2dd40-b994-4067-8ba3-10460971b9e3",
   "metadata": {},
   "outputs": [
    {
     "name": "stdout",
     "output_type": "stream",
     "text": [
      "Order                    0\n",
      "File_Type                0\n",
      "SKU_number               0\n",
      "SoldFlag            122921\n",
      "SoldCount           122921\n",
      "MarketingType            0\n",
      "ReleaseNumber            0\n",
      "New_Release_Flag         0\n",
      "StrengthFactor           0\n",
      "PriceReg                 0\n",
      "ReleaseYear              0\n",
      "ItemCount                0\n",
      "LowUserPrice             0\n",
      "LowNetPrice              0\n",
      "dtype: int64\n"
     ]
    }
   ],
   "source": [
    "## To check the null values\n",
    "print(df.isnull().sum())"
   ]
  },
  {
   "cell_type": "code",
   "execution_count": 19,
   "id": "91d7936d-5ce6-40c3-8c9f-800f40154714",
   "metadata": {},
   "outputs": [],
   "source": [
    "## Handling the null values "
   ]
  },
  {
   "cell_type": "code",
   "execution_count": 23,
   "id": "06b84a64-12e5-42b6-bf32-cc7a093bb49a",
   "metadata": {},
   "outputs": [],
   "source": [
    "df['SoldFlag'].fillna(0, inplace=True)\n",
    "df['SoldCount'].fillna(0, inplace=True)"
   ]
  },
  {
   "cell_type": "code",
   "execution_count": 25,
   "id": "8ca56efe-511c-468b-9d0c-3d0b3f529d5b",
   "metadata": {},
   "outputs": [
    {
     "name": "stdout",
     "output_type": "stream",
     "text": [
      "Order               0\n",
      "File_Type           0\n",
      "SKU_number          0\n",
      "SoldFlag            0\n",
      "SoldCount           0\n",
      "MarketingType       0\n",
      "ReleaseNumber       0\n",
      "New_Release_Flag    0\n",
      "StrengthFactor      0\n",
      "PriceReg            0\n",
      "ReleaseYear         0\n",
      "ItemCount           0\n",
      "LowUserPrice        0\n",
      "LowNetPrice         0\n",
      "dtype: int64\n"
     ]
    }
   ],
   "source": [
    "print(df.isnull().sum())"
   ]
  },
  {
   "cell_type": "markdown",
   "id": "31051f7e-e529-4051-a2cc-f994f40e2a53",
   "metadata": {},
   "source": [
    "#### Save the cleaned dataset, to do further analysis \n"
   ]
  },
  {
   "cell_type": "code",
   "execution_count": 30,
   "id": "9aee586c-2032-4874-9fe4-50f7ad4a20ee",
   "metadata": {},
   "outputs": [],
   "source": [
    "df.to_excel('Boxify Dataset - Data Analyst Bootcamp.xlsx', index=False)"
   ]
  },
  {
   "cell_type": "code",
   "execution_count": 31,
   "id": "e8c99ade-03e7-4186-9a40-b9188ba182b9",
   "metadata": {},
   "outputs": [],
   "source": [
    "from IPython.display import FileLink"
   ]
  },
  {
   "cell_type": "code",
   "execution_count": 32,
   "id": "1b992d0f-4fe7-45b1-84b1-f24ed8196848",
   "metadata": {},
   "outputs": [
    {
     "data": {
      "text/html": [
       "<a href='Boxify Dataset - Data Analyst Bootcamp.xlsx' target='_blank'>Boxify Dataset - Data Analyst Bootcamp.xlsx</a><br>"
      ],
      "text/plain": [
       "C:\\Users\\Sneha\\Boxify Dataset - Data Analyst Bootcamp.xlsx"
      ]
     },
     "execution_count": 32,
     "metadata": {},
     "output_type": "execute_result"
    }
   ],
   "source": [
    "FileLink('Boxify Dataset - Data Analyst Bootcamp.xlsx')"
   ]
  },
  {
   "cell_type": "code",
   "execution_count": 38,
   "id": "c0ea8e03-d94b-4521-b89d-9af8098b95a7",
   "metadata": {},
   "outputs": [],
   "source": [
    "df= pd.read_excel('Boxify Dataset - Data Analyst Bootcamp.xlsx')"
   ]
  },
  {
   "cell_type": "code",
   "execution_count": 37,
   "id": "acb3cfb7-8db3-471e-aec2-d87f24bceeaf",
   "metadata": {},
   "outputs": [
    {
     "data": {
      "text/html": [
       "<div>\n",
       "<style scoped>\n",
       "    .dataframe tbody tr th:only-of-type {\n",
       "        vertical-align: middle;\n",
       "    }\n",
       "\n",
       "    .dataframe tbody tr th {\n",
       "        vertical-align: top;\n",
       "    }\n",
       "\n",
       "    .dataframe thead th {\n",
       "        text-align: right;\n",
       "    }\n",
       "</style>\n",
       "<table border=\"1\" class=\"dataframe\">\n",
       "  <thead>\n",
       "    <tr style=\"text-align: right;\">\n",
       "      <th></th>\n",
       "      <th>Order</th>\n",
       "      <th>File_Type</th>\n",
       "      <th>SKU_number</th>\n",
       "      <th>SoldFlag</th>\n",
       "      <th>SoldCount</th>\n",
       "      <th>MarketingType</th>\n",
       "      <th>ReleaseNumber</th>\n",
       "      <th>New_Release_Flag</th>\n",
       "      <th>StrengthFactor</th>\n",
       "      <th>PriceReg</th>\n",
       "      <th>ReleaseYear</th>\n",
       "      <th>ItemCount</th>\n",
       "      <th>LowUserPrice</th>\n",
       "      <th>LowNetPrice</th>\n",
       "    </tr>\n",
       "  </thead>\n",
       "  <tbody>\n",
       "    <tr>\n",
       "      <th>0</th>\n",
       "      <td>2</td>\n",
       "      <td>Historical</td>\n",
       "      <td>1737127</td>\n",
       "      <td>0</td>\n",
       "      <td>0</td>\n",
       "      <td>D</td>\n",
       "      <td>15</td>\n",
       "      <td>1</td>\n",
       "      <td>6.827430e+05</td>\n",
       "      <td>44.99</td>\n",
       "      <td>2015</td>\n",
       "      <td>8</td>\n",
       "      <td>28.97</td>\n",
       "      <td>31.84</td>\n",
       "    </tr>\n",
       "    <tr>\n",
       "      <th>1</th>\n",
       "      <td>3</td>\n",
       "      <td>Historical</td>\n",
       "      <td>3255963</td>\n",
       "      <td>0</td>\n",
       "      <td>0</td>\n",
       "      <td>D</td>\n",
       "      <td>7</td>\n",
       "      <td>1</td>\n",
       "      <td>1.016014e+06</td>\n",
       "      <td>24.81</td>\n",
       "      <td>2005</td>\n",
       "      <td>39</td>\n",
       "      <td>0.00</td>\n",
       "      <td>15.54</td>\n",
       "    </tr>\n",
       "    <tr>\n",
       "      <th>2</th>\n",
       "      <td>4</td>\n",
       "      <td>Historical</td>\n",
       "      <td>612701</td>\n",
       "      <td>0</td>\n",
       "      <td>0</td>\n",
       "      <td>D</td>\n",
       "      <td>0</td>\n",
       "      <td>0</td>\n",
       "      <td>3.404640e+05</td>\n",
       "      <td>46.00</td>\n",
       "      <td>2013</td>\n",
       "      <td>34</td>\n",
       "      <td>30.19</td>\n",
       "      <td>27.97</td>\n",
       "    </tr>\n",
       "    <tr>\n",
       "      <th>3</th>\n",
       "      <td>6</td>\n",
       "      <td>Historical</td>\n",
       "      <td>115883</td>\n",
       "      <td>1</td>\n",
       "      <td>1</td>\n",
       "      <td>D</td>\n",
       "      <td>4</td>\n",
       "      <td>1</td>\n",
       "      <td>3.340110e+05</td>\n",
       "      <td>100.00</td>\n",
       "      <td>2006</td>\n",
       "      <td>20</td>\n",
       "      <td>133.93</td>\n",
       "      <td>83.15</td>\n",
       "    </tr>\n",
       "    <tr>\n",
       "      <th>4</th>\n",
       "      <td>7</td>\n",
       "      <td>Historical</td>\n",
       "      <td>863939</td>\n",
       "      <td>1</td>\n",
       "      <td>1</td>\n",
       "      <td>D</td>\n",
       "      <td>2</td>\n",
       "      <td>1</td>\n",
       "      <td>1.287938e+06</td>\n",
       "      <td>121.95</td>\n",
       "      <td>2010</td>\n",
       "      <td>28</td>\n",
       "      <td>4.00</td>\n",
       "      <td>23.99</td>\n",
       "    </tr>\n",
       "    <tr>\n",
       "      <th>...</th>\n",
       "      <td>...</td>\n",
       "      <td>...</td>\n",
       "      <td>...</td>\n",
       "      <td>...</td>\n",
       "      <td>...</td>\n",
       "      <td>...</td>\n",
       "      <td>...</td>\n",
       "      <td>...</td>\n",
       "      <td>...</td>\n",
       "      <td>...</td>\n",
       "      <td>...</td>\n",
       "      <td>...</td>\n",
       "      <td>...</td>\n",
       "      <td>...</td>\n",
       "    </tr>\n",
       "    <tr>\n",
       "      <th>198912</th>\n",
       "      <td>208023</td>\n",
       "      <td>Active</td>\n",
       "      <td>109683</td>\n",
       "      <td>0</td>\n",
       "      <td>0</td>\n",
       "      <td>D</td>\n",
       "      <td>7</td>\n",
       "      <td>1</td>\n",
       "      <td>2.101869e+05</td>\n",
       "      <td>72.87</td>\n",
       "      <td>2006</td>\n",
       "      <td>54</td>\n",
       "      <td>8.46</td>\n",
       "      <td>60.59</td>\n",
       "    </tr>\n",
       "    <tr>\n",
       "      <th>198913</th>\n",
       "      <td>208024</td>\n",
       "      <td>Active</td>\n",
       "      <td>416462</td>\n",
       "      <td>0</td>\n",
       "      <td>0</td>\n",
       "      <td>D</td>\n",
       "      <td>8</td>\n",
       "      <td>1</td>\n",
       "      <td>4.555041e+05</td>\n",
       "      <td>247.00</td>\n",
       "      <td>2009</td>\n",
       "      <td>65</td>\n",
       "      <td>8.40</td>\n",
       "      <td>74.85</td>\n",
       "    </tr>\n",
       "    <tr>\n",
       "      <th>198914</th>\n",
       "      <td>208025</td>\n",
       "      <td>Active</td>\n",
       "      <td>658242</td>\n",
       "      <td>0</td>\n",
       "      <td>0</td>\n",
       "      <td>S</td>\n",
       "      <td>2</td>\n",
       "      <td>1</td>\n",
       "      <td>1.692746e+05</td>\n",
       "      <td>50.00</td>\n",
       "      <td>2012</td>\n",
       "      <td>23</td>\n",
       "      <td>23.98</td>\n",
       "      <td>32.62</td>\n",
       "    </tr>\n",
       "    <tr>\n",
       "      <th>198915</th>\n",
       "      <td>208026</td>\n",
       "      <td>Active</td>\n",
       "      <td>2538340</td>\n",
       "      <td>0</td>\n",
       "      <td>0</td>\n",
       "      <td>S</td>\n",
       "      <td>2</td>\n",
       "      <td>1</td>\n",
       "      <td>3.775266e+05</td>\n",
       "      <td>46.95</td>\n",
       "      <td>2001</td>\n",
       "      <td>23</td>\n",
       "      <td>27.42</td>\n",
       "      <td>37.89</td>\n",
       "    </tr>\n",
       "    <tr>\n",
       "      <th>198916</th>\n",
       "      <td>208027</td>\n",
       "      <td>Active</td>\n",
       "      <td>416662</td>\n",
       "      <td>0</td>\n",
       "      <td>0</td>\n",
       "      <td>D</td>\n",
       "      <td>15</td>\n",
       "      <td>1</td>\n",
       "      <td>1.183068e+05</td>\n",
       "      <td>120.00</td>\n",
       "      <td>2010</td>\n",
       "      <td>44</td>\n",
       "      <td>10.97</td>\n",
       "      <td>60.67</td>\n",
       "    </tr>\n",
       "  </tbody>\n",
       "</table>\n",
       "<p>198917 rows × 14 columns</p>\n",
       "</div>"
      ],
      "text/plain": [
       "         Order   File_Type  SKU_number  SoldFlag  SoldCount MarketingType  \\\n",
       "0            2  Historical     1737127         0          0             D   \n",
       "1            3  Historical     3255963         0          0             D   \n",
       "2            4  Historical      612701         0          0             D   \n",
       "3            6  Historical      115883         1          1             D   \n",
       "4            7  Historical      863939         1          1             D   \n",
       "...        ...         ...         ...       ...        ...           ...   \n",
       "198912  208023      Active      109683         0          0             D   \n",
       "198913  208024      Active      416462         0          0             D   \n",
       "198914  208025      Active      658242         0          0             S   \n",
       "198915  208026      Active     2538340         0          0             S   \n",
       "198916  208027      Active      416662         0          0             D   \n",
       "\n",
       "        ReleaseNumber  New_Release_Flag  StrengthFactor  PriceReg  \\\n",
       "0                  15                 1    6.827430e+05     44.99   \n",
       "1                   7                 1    1.016014e+06     24.81   \n",
       "2                   0                 0    3.404640e+05     46.00   \n",
       "3                   4                 1    3.340110e+05    100.00   \n",
       "4                   2                 1    1.287938e+06    121.95   \n",
       "...               ...               ...             ...       ...   \n",
       "198912              7                 1    2.101869e+05     72.87   \n",
       "198913              8                 1    4.555041e+05    247.00   \n",
       "198914              2                 1    1.692746e+05     50.00   \n",
       "198915              2                 1    3.775266e+05     46.95   \n",
       "198916             15                 1    1.183068e+05    120.00   \n",
       "\n",
       "        ReleaseYear  ItemCount  LowUserPrice  LowNetPrice  \n",
       "0              2015          8         28.97        31.84  \n",
       "1              2005         39          0.00        15.54  \n",
       "2              2013         34         30.19        27.97  \n",
       "3              2006         20        133.93        83.15  \n",
       "4              2010         28          4.00        23.99  \n",
       "...             ...        ...           ...          ...  \n",
       "198912         2006         54          8.46        60.59  \n",
       "198913         2009         65          8.40        74.85  \n",
       "198914         2012         23         23.98        32.62  \n",
       "198915         2001         23         27.42        37.89  \n",
       "198916         2010         44         10.97        60.67  \n",
       "\n",
       "[198917 rows x 14 columns]"
      ]
     },
     "execution_count": 37,
     "metadata": {},
     "output_type": "execute_result"
    }
   ],
   "source": [
    "df"
   ]
  },
  {
   "cell_type": "markdown",
   "id": "f3a0cc30-cf6c-4e62-a3a7-b09682a76ebd",
   "metadata": {},
   "source": [
    "### Exploratory Data Analysis (EDA)"
   ]
  },
  {
   "cell_type": "markdown",
   "id": "d98608a4-9dea-487a-b0c6-48b445cfb764",
   "metadata": {},
   "source": [
    "##### Sales Trends and variation over time(Aggregate Sales Data by Year)"
   ]
  },
  {
   "cell_type": "code",
   "execution_count": 43,
   "id": "6036101e-eb9f-4ad0-aee3-7b805813e553",
   "metadata": {},
   "outputs": [
    {
     "data": {
      "text/html": [
       "<div>\n",
       "<style scoped>\n",
       "    .dataframe tbody tr th:only-of-type {\n",
       "        vertical-align: middle;\n",
       "    }\n",
       "\n",
       "    .dataframe tbody tr th {\n",
       "        vertical-align: top;\n",
       "    }\n",
       "\n",
       "    .dataframe thead th {\n",
       "        text-align: right;\n",
       "    }\n",
       "</style>\n",
       "<table border=\"1\" class=\"dataframe\">\n",
       "  <thead>\n",
       "    <tr style=\"text-align: right;\">\n",
       "      <th></th>\n",
       "      <th>ReleaseYear</th>\n",
       "      <th>SoldCount</th>\n",
       "    </tr>\n",
       "  </thead>\n",
       "  <tbody>\n",
       "    <tr>\n",
       "      <th>0</th>\n",
       "      <td>0</td>\n",
       "      <td>0</td>\n",
       "    </tr>\n",
       "    <tr>\n",
       "      <th>1</th>\n",
       "      <td>1900</td>\n",
       "      <td>0</td>\n",
       "    </tr>\n",
       "    <tr>\n",
       "      <th>2</th>\n",
       "      <td>1904</td>\n",
       "      <td>0</td>\n",
       "    </tr>\n",
       "    <tr>\n",
       "      <th>3</th>\n",
       "      <td>1905</td>\n",
       "      <td>0</td>\n",
       "    </tr>\n",
       "    <tr>\n",
       "      <th>4</th>\n",
       "      <td>1914</td>\n",
       "      <td>0</td>\n",
       "    </tr>\n",
       "    <tr>\n",
       "      <th>...</th>\n",
       "      <td>...</td>\n",
       "      <td>...</td>\n",
       "    </tr>\n",
       "    <tr>\n",
       "      <th>80</th>\n",
       "      <td>2014</td>\n",
       "      <td>794</td>\n",
       "    </tr>\n",
       "    <tr>\n",
       "      <th>81</th>\n",
       "      <td>2015</td>\n",
       "      <td>122</td>\n",
       "    </tr>\n",
       "    <tr>\n",
       "      <th>82</th>\n",
       "      <td>2016</td>\n",
       "      <td>3</td>\n",
       "    </tr>\n",
       "    <tr>\n",
       "      <th>83</th>\n",
       "      <td>2017</td>\n",
       "      <td>0</td>\n",
       "    </tr>\n",
       "    <tr>\n",
       "      <th>84</th>\n",
       "      <td>2018</td>\n",
       "      <td>0</td>\n",
       "    </tr>\n",
       "  </tbody>\n",
       "</table>\n",
       "<p>85 rows × 2 columns</p>\n",
       "</div>"
      ],
      "text/plain": [
       "    ReleaseYear  SoldCount\n",
       "0             0          0\n",
       "1          1900          0\n",
       "2          1904          0\n",
       "3          1905          0\n",
       "4          1914          0\n",
       "..          ...        ...\n",
       "80         2014        794\n",
       "81         2015        122\n",
       "82         2016          3\n",
       "83         2017          0\n",
       "84         2018          0\n",
       "\n",
       "[85 rows x 2 columns]"
      ]
     },
     "execution_count": 43,
     "metadata": {},
     "output_type": "execute_result"
    }
   ],
   "source": [
    "sales_trends = df.groupby('ReleaseYear')['SoldCount'].sum().reset_index()\n",
    "sales_trends"
   ]
  },
  {
   "cell_type": "code",
   "execution_count": 45,
   "id": "dda3ebbf-c6f3-4fbc-af16-ad0b0d71208d",
   "metadata": {},
   "outputs": [
    {
     "name": "stdout",
     "output_type": "stream",
     "text": [
      "    ReleaseYear  SoldCount       Trend\n",
      "0             0          0    Holidays\n",
      "1          1900          0    Holidays\n",
      "2          1904          0    Holidays\n",
      "3          1905          0    Holidays\n",
      "4          1914          0    Holidays\n",
      "..          ...        ...         ...\n",
      "80         2014        794    Peak Day\n",
      "81         2015        122  Normal Day\n",
      "82         2016          3    Holidays\n",
      "83         2017          0    Holidays\n",
      "84         2018          0    Holidays\n",
      "\n",
      "[85 rows x 3 columns]\n"
     ]
    }
   ],
   "source": [
    "# Apply the seasonal trend logic to classify sales trends\n",
    "def classify_sales_trend(sales):\n",
    "    if sales < 20:\n",
    "        return \"Holidays\"\n",
    "    elif sales < 200:\n",
    "        return \"Normal Day\"\n",
    "    else:\n",
    "        return \"Peak Day\"\n",
    "sales_trends['Trend'] = sales_trends['SoldCount'].apply(classify_sales_trend)\n",
    "print(sales_trends)"
   ]
  },
  {
   "cell_type": "markdown",
   "id": "25553801-1701-4a06-b822-7e9e59ffa3dd",
   "metadata": {},
   "source": [
    "##### Identify top-selling products and categories."
   ]
  },
  {
   "cell_type": "code",
   "execution_count": 50,
   "id": "fa22db18-81e1-4aae-bc73-3fb96c0d0ec2",
   "metadata": {},
   "outputs": [],
   "source": [
    "top_products = df.groupby('SKU_number')['SoldCount'].sum().sort_values(ascending=False).head(10)"
   ]
  },
  {
   "cell_type": "code",
   "execution_count": 52,
   "id": "20a5ce7b-5787-4bd1-8e06-396b43b82b64",
   "metadata": {},
   "outputs": [
    {
     "data": {
      "text/plain": [
       "SKU_number\n",
       "665269    73\n",
       "613864    69\n",
       "141848    51\n",
       "254518    40\n",
       "767846    36\n",
       "55769     36\n",
       "416609    35\n",
       "243550    34\n",
       "141824    33\n",
       "747765    30\n",
       "Name: SoldCount, dtype: int64"
      ]
     },
     "execution_count": 52,
     "metadata": {},
     "output_type": "execute_result"
    }
   ],
   "source": [
    "top_products"
   ]
  },
  {
   "cell_type": "code",
   "execution_count": 54,
   "id": "095ed07e-929f-4025-a729-573e1dc35c7a",
   "metadata": {},
   "outputs": [
    {
     "data": {
      "text/plain": [
       "File_Type\n",
       "Historical    24494\n",
       "Active            0\n",
       "Name: SoldCount, dtype: int64"
      ]
     },
     "execution_count": 54,
     "metadata": {},
     "output_type": "execute_result"
    }
   ],
   "source": [
    "top_categories = df.groupby('File_Type')['SoldCount'].sum().sort_values(ascending=False)\n",
    "top_categories"
   ]
  },
  {
   "cell_type": "markdown",
   "id": "4e139120-fc43-49fb-abf5-c4b43cb7fb42",
   "metadata": {},
   "source": [
    "##### Investigate stock levels and low-stock items"
   ]
  },
  {
   "cell_type": "code",
   "execution_count": 61,
   "id": "cd76b112-4806-4371-8899-4600b8b59cfc",
   "metadata": {},
   "outputs": [],
   "source": [
    "stock_level = df.groupby('SKU_number')['ItemCount'].sum().sort_values(ascending=False)"
   ]
  },
  {
   "cell_type": "code",
   "execution_count": 63,
   "id": "4f786327-e76d-44a4-9be4-d0f56d3df614",
   "metadata": {},
   "outputs": [
    {
     "data": {
      "text/plain": [
       "SKU_number\n",
       "536345     3046\n",
       "198645     2852\n",
       "672549     2542\n",
       "543471     1920\n",
       "612805     1860\n",
       "           ... \n",
       "862455        0\n",
       "2281256       0\n",
       "2281296       0\n",
       "2281309       0\n",
       "2558237       0\n",
       "Name: ItemCount, Length: 133360, dtype: int64"
      ]
     },
     "execution_count": 63,
     "metadata": {},
     "output_type": "execute_result"
    }
   ],
   "source": [
    "stock_level"
   ]
  },
  {
   "cell_type": "code",
   "execution_count": 65,
   "id": "710a3618-cf4b-41ea-900a-476a387d45ea",
   "metadata": {},
   "outputs": [
    {
     "name": "stdout",
     "output_type": "stream",
     "text": [
      "Low-stock items:\n",
      "        SKU_number  ItemCount\n",
      "0          1737127          8\n",
      "118         873654          5\n",
      "350         613288          9\n",
      "797         521116          2\n",
      "1073        659971          8\n",
      "...            ...        ...\n",
      "197792      766251          6\n",
      "198244     2511839          7\n",
      "198260     2287680          0\n",
      "198310     1456205          9\n",
      "198520     1624605          2\n",
      "\n",
      "[3379 rows x 2 columns]\n"
     ]
    }
   ],
   "source": [
    "## Show only those SKU_number whose item count is less than or equals to 10\n",
    "thresold= 10\n",
    "low_stock_items = df[df['ItemCount'] < thresold]\n",
    "\n",
    "print(\"Low-stock items:\")\n",
    "print(low_stock_items[['SKU_number', 'ItemCount']])\n"
   ]
  },
  {
   "cell_type": "code",
   "execution_count": 67,
   "id": "34f9b31d-8e58-4779-98d0-682c38126133",
   "metadata": {},
   "outputs": [],
   "source": [
    "low_stock_summary=low_stock_items.groupby('SKU_number')['ItemCount'].min().sort_values().head(100)"
   ]
  },
  {
   "cell_type": "code",
   "execution_count": 69,
   "id": "3b2725fa-8082-4995-bcc7-c6f4ed876053",
   "metadata": {},
   "outputs": [
    {
     "data": {
      "text/plain": [
       "SKU_number\n",
       "2032231    0\n",
       "3530648    0\n",
       "3748942    0\n",
       "2287580    0\n",
       "2287680    0\n",
       "          ..\n",
       "2299367    0\n",
       "2298513    0\n",
       "2575187    0\n",
       "3634467    0\n",
       "2291822    0\n",
       "Name: ItemCount, Length: 100, dtype: int64"
      ]
     },
     "execution_count": 69,
     "metadata": {},
     "output_type": "execute_result"
    }
   ],
   "source": [
    "low_stock_summary"
   ]
  },
  {
   "cell_type": "markdown",
   "id": "23bb7458-8260-4e10-9536-d076b8f10aa0",
   "metadata": {},
   "source": [
    "### Inventory Insights and Recommendations"
   ]
  },
  {
   "cell_type": "code",
   "execution_count": 74,
   "id": "9a6ae358-4786-45f8-a6aa-647c0d0a4a92",
   "metadata": {},
   "outputs": [
    {
     "data": {
      "text/plain": [
       "41.42628332420055"
      ]
     },
     "execution_count": 74,
     "metadata": {},
     "output_type": "execute_result"
    }
   ],
   "source": [
    "## We have to calculate average inventory because it used in inventory turnover\n",
    "avg_inventory=df['ItemCount'].mean()\n",
    "avg_inventory"
   ]
  },
  {
   "cell_type": "code",
   "execution_count": 76,
   "id": "0e66f8f2-a023-4029-a8fa-2614a4544f7b",
   "metadata": {},
   "outputs": [
    {
     "name": "stdout",
     "output_type": "stream",
     "text": [
      "Inventory Turnover: 591.27\n"
     ]
    }
   ],
   "source": [
    "# Example formula: Inventory Turnover = Total SoldCount / Average ItemCount\n",
    "inventory_turnover = df['SoldCount'].sum() / avg_inventory\n",
    "print(f\"Inventory Turnover: {inventory_turnover:.2f}\")\n"
   ]
  },
  {
   "cell_type": "markdown",
   "id": "def0e9eb-57aa-436a-a610-7ff40b6c3ad3",
   "metadata": {},
   "source": [
    "##### stock-to-sales ratio"
   ]
  },
  {
   "cell_type": "code",
   "execution_count": 89,
   "id": "3b61f089-6bdf-4a39-9505-08e80ae1c0f0",
   "metadata": {},
   "outputs": [
    {
     "name": "stdout",
     "output_type": "stream",
     "text": [
      "Total Items Sold: 24494\n"
     ]
    }
   ],
   "source": [
    "#Total sales \n",
    "total_sales = df[\"SoldCount\"].sum()\n",
    "print(\"Total Items Sold:\", total_sales)\n",
    "\n"
   ]
  },
  {
   "cell_type": "code",
   "execution_count": 91,
   "id": "04767b2f-1b7a-455f-8235-ee8be949102b",
   "metadata": {},
   "outputs": [
    {
     "name": "stdout",
     "output_type": "stream",
     "text": [
      "Stock-to-Sales Ratio:, 0.0017\n"
     ]
    }
   ],
   "source": [
    "#Stock-to-sales ratio\n",
    "stock_to_sales_ratio = avg_inventory/total_sales\n",
    "print(f\"Stock-to-Sales Ratio:, {stock_to_sales_ratio:.4f}\")\n"
   ]
  },
  {
   "cell_type": "markdown",
   "id": "93b1c2c7-7564-4a88-86fc-122f60bcd448",
   "metadata": {},
   "source": [
    "####Reorder Point "
   ]
  },
  {
   "cell_type": "code",
   "execution_count": 94,
   "id": "9ff12690-3644-4bc0-9e8e-9fec506ca56f",
   "metadata": {},
   "outputs": [
    {
     "data": {
      "text/plain": [
       "67.10684931506849"
      ]
     },
     "execution_count": 94,
     "metadata": {},
     "output_type": "execute_result"
    }
   ],
   "source": [
    "lead_days = 7\n",
    "days_in_datasets = 365\n",
    "## To calculate average_daily_sales we have to divide total_sales by the days_in_datasets\n",
    "avg_daily_sales=total_sales/days_in_datasets\n",
    "avg_daily_sales"
   ]
  },
  {
   "cell_type": "code",
   "execution_count": 96,
   "id": "5ef6bde5-dafb-4b08-9245-2b0a493ffa13",
   "metadata": {},
   "outputs": [
    {
     "name": "stdout",
     "output_type": "stream",
     "text": [
      "Reorder Points= 469.7479452054794\n"
     ]
    }
   ],
   "source": [
    "## To calculate Reorder Point we have to multiply avg_daily_sales with lead_days\n",
    "reorder_point= avg_daily_sales*lead_days\n",
    "print(\"Reorder Points=\",reorder_point)"
   ]
  },
  {
   "cell_type": "markdown",
   "id": "d44bf66b-80e1-47bc-9e29-c4cc66885aee",
   "metadata": {},
   "source": [
    "#### Recommendation"
   ]
  },
  {
   "cell_type": "code",
   "execution_count": 101,
   "id": "41a3ea24-8a39-4e31-82a8-413b82bdb109",
   "metadata": {},
   "outputs": [
    {
     "data": {
      "text/plain": [
       "['Ensure sufficient stock levels for SKU 665269 to meet demand.',\n",
       " 'Ensure sufficient stock levels for SKU 613864 to meet demand.',\n",
       " 'Ensure sufficient stock levels for SKU 141848 to meet demand.',\n",
       " 'Ensure sufficient stock levels for SKU 254518 to meet demand.',\n",
       " 'Ensure sufficient stock levels for SKU 767846 to meet demand.',\n",
       " 'Ensure sufficient stock levels for SKU 55769 to meet demand.',\n",
       " 'Ensure sufficient stock levels for SKU 416609 to meet demand.',\n",
       " 'Ensure sufficient stock levels for SKU 243550 to meet demand.',\n",
       " 'Ensure sufficient stock levels for SKU 141824 to meet demand.',\n",
       " 'Ensure sufficient stock levels for SKU 747765 to meet demand.']"
      ]
     },
     "execution_count": 101,
     "metadata": {},
     "output_type": "execute_result"
    }
   ],
   "source": [
    "# Identify Top Products\n",
    "top_products_recommendation = [\n",
    "    f\"Ensure sufficient stock levels for SKU {sku} to meet demand.\" \n",
    "    for sku in top_products.index\n",
    "]\n",
    "top_products_recommendation\n"
   ]
  },
  {
   "cell_type": "code",
   "execution_count": 103,
   "id": "c6d85062-2379-456e-96e7-ec3e667ceba1",
   "metadata": {},
   "outputs": [
    {
     "data": {
      "text/plain": [
       "['Reorder SKU 1737127 as current stock (8) is below the threshold.',\n",
       " 'Reorder SKU 873654 as current stock (5) is below the threshold.',\n",
       " 'Reorder SKU 613288 as current stock (9) is below the threshold.',\n",
       " 'Reorder SKU 521116 as current stock (2) is below the threshold.',\n",
       " 'Reorder SKU 659971 as current stock (8) is below the threshold.',\n",
       " 'Reorder SKU 1450154 as current stock (6) is below the threshold.',\n",
       " 'Reorder SKU 146207 as current stock (6) is below the threshold.',\n",
       " 'Reorder SKU 147350 as current stock (9) is below the threshold.',\n",
       " 'Reorder SKU 1594170 as current stock (7) is below the threshold.',\n",
       " 'Reorder SKU 1632797 as current stock (8) is below the threshold.']"
      ]
     },
     "execution_count": 103,
     "metadata": {},
     "output_type": "execute_result"
    }
   ],
   "source": [
    "# Identify Low-stock\n",
    "low_stock_items_recommendation = [\n",
    "    f\"Reorder SKU {row['SKU_number']} as current stock ({row['ItemCount']}) is below the threshold.\"\n",
    "    for _, row in low_stock_items.iterrows()\n",
    "]\n",
    "low_stock_items_recommendation[:10]"
   ]
  },
  {
   "cell_type": "code",
   "execution_count": 105,
   "id": "46bcab92-2a62-45b0-8e04-9fec0d8d8dd7",
   "metadata": {},
   "outputs": [
    {
     "data": {
      "text/plain": [
       "ReleaseYear\n",
       "0          1\n",
       "1900     338\n",
       "1904       2\n",
       "1905       1\n",
       "1914       1\n",
       "        ... \n",
       "2014    7124\n",
       "2015    3862\n",
       "2016     652\n",
       "2017       6\n",
       "2018       1\n",
       "Name: SKU_number, Length: 85, dtype: int64"
      ]
     },
     "execution_count": 105,
     "metadata": {},
     "output_type": "execute_result"
    }
   ],
   "source": [
    "seasonal_trends = df.groupby('ReleaseYear')['SKU_number'].nunique().sort_index() \n",
    "seasonal_trends\n"
   ]
  },
  {
   "cell_type": "code",
   "execution_count": null,
   "id": "26d3e62f-4b89-45d5-8305-d8ed10d22077",
   "metadata": {},
   "outputs": [],
   "source": []
  }
 ],
 "metadata": {
  "kernelspec": {
   "display_name": "Python 3 (ipykernel)",
   "language": "python",
   "name": "python3"
  },
  "language_info": {
   "codemirror_mode": {
    "name": "ipython",
    "version": 3
   },
   "file_extension": ".py",
   "mimetype": "text/x-python",
   "name": "python",
   "nbconvert_exporter": "python",
   "pygments_lexer": "ipython3",
   "version": "3.12.4"
  }
 },
 "nbformat": 4,
 "nbformat_minor": 5
}
